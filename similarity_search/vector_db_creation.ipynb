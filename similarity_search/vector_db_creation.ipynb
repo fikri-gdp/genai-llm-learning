{
 "cells": [
  {
   "cell_type": "markdown",
   "metadata": {},
   "source": [
    "# Vector DB Creation"
   ]
  },
  {
   "cell_type": "markdown",
   "metadata": {},
   "source": [
    "### Prepare Elastic Search Connection"
   ]
  },
  {
   "cell_type": "code",
   "execution_count": 22,
   "metadata": {},
   "outputs": [
    {
     "data": {
      "text/plain": [
       "True"
      ]
     },
     "execution_count": 22,
     "metadata": {},
     "output_type": "execute_result"
    }
   ],
   "source": [
    "from elasticsearch import Elasticsearch\n",
    "\n",
    "es = Elasticsearch(\n",
    "    \"https://localhost:9200\",\n",
    "    basic_auth=('elastic', 'vJgb6JQEhOnKJGSqRzg-'),\n",
    "    ca_certs=\"/home/fikri/Documents/Apps/elasticsearch-8.12.1/config/certs/http_ca.crt\"\n",
    ")\n",
    "\n",
    "es.ping()"
   ]
  },
  {
   "cell_type": "markdown",
   "metadata": {},
   "source": [
    "### Preparing the data"
   ]
  },
  {
   "cell_type": "code",
   "execution_count": 23,
   "metadata": {},
   "outputs": [
    {
     "data": {
      "text/html": [
       "<div>\n",
       "<style scoped>\n",
       "    .dataframe tbody tr th:only-of-type {\n",
       "        vertical-align: middle;\n",
       "    }\n",
       "\n",
       "    .dataframe tbody tr th {\n",
       "        vertical-align: top;\n",
       "    }\n",
       "\n",
       "    .dataframe thead th {\n",
       "        text-align: right;\n",
       "    }\n",
       "</style>\n",
       "<table border=\"1\" class=\"dataframe\">\n",
       "  <thead>\n",
       "    <tr style=\"text-align: right;\">\n",
       "      <th></th>\n",
       "      <th>ProductID</th>\n",
       "      <th>ProductName</th>\n",
       "      <th>ProductBrand</th>\n",
       "      <th>Gender</th>\n",
       "      <th>Price (INR)</th>\n",
       "      <th>NumImages</th>\n",
       "      <th>Description</th>\n",
       "      <th>PrimaryColor</th>\n",
       "    </tr>\n",
       "  </thead>\n",
       "  <tbody>\n",
       "    <tr>\n",
       "      <th>0</th>\n",
       "      <td>10017413</td>\n",
       "      <td>DKNY Unisex Black &amp; Grey Printed Medium Trolle...</td>\n",
       "      <td>DKNY</td>\n",
       "      <td>Unisex</td>\n",
       "      <td>11745</td>\n",
       "      <td>7</td>\n",
       "      <td>Black and grey printed medium trolley bag, sec...</td>\n",
       "      <td>Black</td>\n",
       "    </tr>\n",
       "    <tr>\n",
       "      <th>1</th>\n",
       "      <td>10016283</td>\n",
       "      <td>EthnoVogue Women Beige &amp; Grey Made to Measure ...</td>\n",
       "      <td>EthnoVogue</td>\n",
       "      <td>Women</td>\n",
       "      <td>5810</td>\n",
       "      <td>7</td>\n",
       "      <td>Beige &amp; Grey made to measure kurta with churid...</td>\n",
       "      <td>Beige</td>\n",
       "    </tr>\n",
       "    <tr>\n",
       "      <th>2</th>\n",
       "      <td>10009781</td>\n",
       "      <td>SPYKAR Women Pink Alexa Super Skinny Fit High-...</td>\n",
       "      <td>SPYKAR</td>\n",
       "      <td>Women</td>\n",
       "      <td>899</td>\n",
       "      <td>7</td>\n",
       "      <td>Pink coloured wash 5-pocket high-rise cropped ...</td>\n",
       "      <td>Pink</td>\n",
       "    </tr>\n",
       "    <tr>\n",
       "      <th>3</th>\n",
       "      <td>10015921</td>\n",
       "      <td>Raymond Men Blue Self-Design Single-Breasted B...</td>\n",
       "      <td>Raymond</td>\n",
       "      <td>Men</td>\n",
       "      <td>5599</td>\n",
       "      <td>5</td>\n",
       "      <td>Blue self-design bandhgala suitBlue self-desig...</td>\n",
       "      <td>Blue</td>\n",
       "    </tr>\n",
       "    <tr>\n",
       "      <th>4</th>\n",
       "      <td>10017833</td>\n",
       "      <td>Parx Men Brown &amp; Off-White Slim Fit Printed Ca...</td>\n",
       "      <td>Parx</td>\n",
       "      <td>Men</td>\n",
       "      <td>759</td>\n",
       "      <td>5</td>\n",
       "      <td>Brown and off-white printed casual shirt, has ...</td>\n",
       "      <td>White</td>\n",
       "    </tr>\n",
       "  </tbody>\n",
       "</table>\n",
       "</div>"
      ],
      "text/plain": [
       "   ProductID                                        ProductName ProductBrand  \\\n",
       "0   10017413  DKNY Unisex Black & Grey Printed Medium Trolle...         DKNY   \n",
       "1   10016283  EthnoVogue Women Beige & Grey Made to Measure ...   EthnoVogue   \n",
       "2   10009781  SPYKAR Women Pink Alexa Super Skinny Fit High-...       SPYKAR   \n",
       "3   10015921  Raymond Men Blue Self-Design Single-Breasted B...      Raymond   \n",
       "4   10017833  Parx Men Brown & Off-White Slim Fit Printed Ca...         Parx   \n",
       "\n",
       "   Gender  Price (INR)  NumImages  \\\n",
       "0  Unisex        11745          7   \n",
       "1   Women         5810          7   \n",
       "2   Women          899          7   \n",
       "3     Men         5599          5   \n",
       "4     Men          759          5   \n",
       "\n",
       "                                         Description PrimaryColor  \n",
       "0  Black and grey printed medium trolley bag, sec...        Black  \n",
       "1  Beige & Grey made to measure kurta with churid...        Beige  \n",
       "2  Pink coloured wash 5-pocket high-rise cropped ...         Pink  \n",
       "3  Blue self-design bandhgala suitBlue self-desig...         Blue  \n",
       "4  Brown and off-white printed casual shirt, has ...        White  "
      ]
     },
     "execution_count": 23,
     "metadata": {},
     "output_type": "execute_result"
    }
   ],
   "source": [
    "import pandas as pd\n",
    "\n",
    "df = pd.read_csv('../data/raw/csv/myntra_products_catalog.csv').loc[:499]\n",
    "df.head()"
   ]
  },
  {
   "cell_type": "code",
   "execution_count": 25,
   "metadata": {},
   "outputs": [
    {
     "data": {
      "text/plain": [
       "ProductID  ProductName  ProductBrand  Gender  Price (INR)  NumImages  Description  PrimaryColor\n",
       "False      False        False         False   False        False      False        False           468\n",
       "                                                                                   True             32\n",
       "Name: count, dtype: int64"
      ]
     },
     "execution_count": 25,
     "metadata": {},
     "output_type": "execute_result"
    }
   ],
   "source": [
    "df.isna().value_counts()"
   ]
  },
  {
   "cell_type": "markdown",
   "metadata": {},
   "source": [
    "Because there are not filled column, we will fill the column by \"None\""
   ]
  },
  {
   "cell_type": "code",
   "execution_count": 26,
   "metadata": {},
   "outputs": [],
   "source": [
    "df.fillna(\"None\", inplace=True)"
   ]
  },
  {
   "cell_type": "markdown",
   "metadata": {},
   "source": [
    "### Word Embedding\n",
    "\n",
    "We will convert text to vector and we will use BERT Embeddings."
   ]
  },
  {
   "cell_type": "code",
   "execution_count": 34,
   "metadata": {},
   "outputs": [
    {
     "name": "stderr",
     "output_type": "stream",
     "text": [
      "/home/fikri/GDP-Project/learning/GenAI/venv/lib/python3.11/site-packages/tqdm/auto.py:21: TqdmWarning: IProgress not found. Please update jupyter and ipywidgets. See https://ipywidgets.readthedocs.io/en/stable/user_install.html\n",
      "  from .autonotebook import tqdm as notebook_tqdm\n",
      "modules.json: 100%|██████████| 349/349 [00:00<00:00, 2.29MB/s]\n",
      "config_sentence_transformers.json: 100%|██████████| 116/116 [00:00<00:00, 932kB/s]\n",
      "README.md: 100%|██████████| 10.6k/10.6k [00:00<00:00, 42.2MB/s]\n",
      "sentence_bert_config.json: 100%|██████████| 53.0/53.0 [00:00<00:00, 416kB/s]\n",
      "config.json: 100%|██████████| 571/571 [00:00<00:00, 2.75MB/s]\n",
      "pytorch_model.bin: 100%|██████████| 438M/438M [01:59<00:00, 3.65MB/s] \n",
      "tokenizer_config.json: 100%|██████████| 363/363 [00:00<00:00, 2.92MB/s]\n",
      "vocab.txt: 100%|██████████| 232k/232k [00:00<00:00, 432kB/s]\n",
      "tokenizer.json: 100%|██████████| 466k/466k [00:00<00:00, 937kB/s]\n",
      "special_tokens_map.json: 100%|██████████| 239/239 [00:00<00:00, 2.37MB/s]\n",
      "1_Pooling/config.json: 100%|██████████| 190/190 [00:00<00:00, 1.50MB/s]\n"
     ]
    }
   ],
   "source": [
    "from sentence_transformers import SentenceTransformer\n",
    "model = SentenceTransformer('all-mpnet-base-v2')"
   ]
  },
  {
   "cell_type": "code",
   "execution_count": 35,
   "metadata": {},
   "outputs": [],
   "source": [
    "from tqdm import tqdm\n",
    "tqdm.pandas()"
   ]
  },
  {
   "cell_type": "code",
   "execution_count": 36,
   "metadata": {},
   "outputs": [
    {
     "name": "stderr",
     "output_type": "stream",
     "text": [
      "100%|██████████| 500/500 [00:21<00:00, 23.40it/s]\n"
     ]
    }
   ],
   "source": [
    "df[\"DescriptionVector\"] = df[\"Description\"].progress_apply(lambda x: model.encode(x))"
   ]
  },
  {
   "cell_type": "code",
   "execution_count": 37,
   "metadata": {},
   "outputs": [
    {
     "data": {
      "text/html": [
       "<div>\n",
       "<style scoped>\n",
       "    .dataframe tbody tr th:only-of-type {\n",
       "        vertical-align: middle;\n",
       "    }\n",
       "\n",
       "    .dataframe tbody tr th {\n",
       "        vertical-align: top;\n",
       "    }\n",
       "\n",
       "    .dataframe thead th {\n",
       "        text-align: right;\n",
       "    }\n",
       "</style>\n",
       "<table border=\"1\" class=\"dataframe\">\n",
       "  <thead>\n",
       "    <tr style=\"text-align: right;\">\n",
       "      <th></th>\n",
       "      <th>ProductID</th>\n",
       "      <th>ProductName</th>\n",
       "      <th>ProductBrand</th>\n",
       "      <th>Gender</th>\n",
       "      <th>Price (INR)</th>\n",
       "      <th>NumImages</th>\n",
       "      <th>Description</th>\n",
       "      <th>PrimaryColor</th>\n",
       "      <th>DescriptionVector</th>\n",
       "    </tr>\n",
       "  </thead>\n",
       "  <tbody>\n",
       "    <tr>\n",
       "      <th>0</th>\n",
       "      <td>10017413</td>\n",
       "      <td>DKNY Unisex Black &amp; Grey Printed Medium Trolle...</td>\n",
       "      <td>DKNY</td>\n",
       "      <td>Unisex</td>\n",
       "      <td>11745</td>\n",
       "      <td>7</td>\n",
       "      <td>Black and grey printed medium trolley bag, sec...</td>\n",
       "      <td>Black</td>\n",
       "      <td>[0.027645899, -0.00263416, -0.003588411, 0.051...</td>\n",
       "    </tr>\n",
       "    <tr>\n",
       "      <th>1</th>\n",
       "      <td>10016283</td>\n",
       "      <td>EthnoVogue Women Beige &amp; Grey Made to Measure ...</td>\n",
       "      <td>EthnoVogue</td>\n",
       "      <td>Women</td>\n",
       "      <td>5810</td>\n",
       "      <td>7</td>\n",
       "      <td>Beige &amp; Grey made to measure kurta with churid...</td>\n",
       "      <td>Beige</td>\n",
       "      <td>[-0.024660692, -0.028755333, -0.02033251, 0.03...</td>\n",
       "    </tr>\n",
       "    <tr>\n",
       "      <th>2</th>\n",
       "      <td>10009781</td>\n",
       "      <td>SPYKAR Women Pink Alexa Super Skinny Fit High-...</td>\n",
       "      <td>SPYKAR</td>\n",
       "      <td>Women</td>\n",
       "      <td>899</td>\n",
       "      <td>7</td>\n",
       "      <td>Pink coloured wash 5-pocket high-rise cropped ...</td>\n",
       "      <td>Pink</td>\n",
       "      <td>[-0.046943255, 0.081827946, 0.048335165, -0.00...</td>\n",
       "    </tr>\n",
       "    <tr>\n",
       "      <th>3</th>\n",
       "      <td>10015921</td>\n",
       "      <td>Raymond Men Blue Self-Design Single-Breasted B...</td>\n",
       "      <td>Raymond</td>\n",
       "      <td>Men</td>\n",
       "      <td>5599</td>\n",
       "      <td>5</td>\n",
       "      <td>Blue self-design bandhgala suitBlue self-desig...</td>\n",
       "      <td>Blue</td>\n",
       "      <td>[-0.015098757, -0.010285391, 0.009487298, -0.0...</td>\n",
       "    </tr>\n",
       "    <tr>\n",
       "      <th>4</th>\n",
       "      <td>10017833</td>\n",
       "      <td>Parx Men Brown &amp; Off-White Slim Fit Printed Ca...</td>\n",
       "      <td>Parx</td>\n",
       "      <td>Men</td>\n",
       "      <td>759</td>\n",
       "      <td>5</td>\n",
       "      <td>Brown and off-white printed casual shirt, has ...</td>\n",
       "      <td>White</td>\n",
       "      <td>[-0.017746588, 0.0062096245, 0.02181395, 0.026...</td>\n",
       "    </tr>\n",
       "  </tbody>\n",
       "</table>\n",
       "</div>"
      ],
      "text/plain": [
       "   ProductID                                        ProductName ProductBrand  \\\n",
       "0   10017413  DKNY Unisex Black & Grey Printed Medium Trolle...         DKNY   \n",
       "1   10016283  EthnoVogue Women Beige & Grey Made to Measure ...   EthnoVogue   \n",
       "2   10009781  SPYKAR Women Pink Alexa Super Skinny Fit High-...       SPYKAR   \n",
       "3   10015921  Raymond Men Blue Self-Design Single-Breasted B...      Raymond   \n",
       "4   10017833  Parx Men Brown & Off-White Slim Fit Printed Ca...         Parx   \n",
       "\n",
       "   Gender  Price (INR)  NumImages  \\\n",
       "0  Unisex        11745          7   \n",
       "1   Women         5810          7   \n",
       "2   Women          899          7   \n",
       "3     Men         5599          5   \n",
       "4     Men          759          5   \n",
       "\n",
       "                                         Description PrimaryColor  \\\n",
       "0  Black and grey printed medium trolley bag, sec...        Black   \n",
       "1  Beige & Grey made to measure kurta with churid...        Beige   \n",
       "2  Pink coloured wash 5-pocket high-rise cropped ...         Pink   \n",
       "3  Blue self-design bandhgala suitBlue self-desig...         Blue   \n",
       "4  Brown and off-white printed casual shirt, has ...        White   \n",
       "\n",
       "                                   DescriptionVector  \n",
       "0  [0.027645899, -0.00263416, -0.003588411, 0.051...  \n",
       "1  [-0.024660692, -0.028755333, -0.02033251, 0.03...  \n",
       "2  [-0.046943255, 0.081827946, 0.048335165, -0.00...  \n",
       "3  [-0.015098757, -0.010285391, 0.009487298, -0.0...  \n",
       "4  [-0.017746588, 0.0062096245, 0.02181395, 0.026...  "
      ]
     },
     "execution_count": 37,
     "metadata": {},
     "output_type": "execute_result"
    }
   ],
   "source": [
    "df.head()"
   ]
  },
  {
   "cell_type": "markdown",
   "metadata": {},
   "source": [
    "### Create new index in ElasticSearch"
   ]
  },
  {
   "cell_type": "code",
   "execution_count": 38,
   "metadata": {},
   "outputs": [
    {
     "data": {
      "text/plain": [
       "ObjectApiResponse({'acknowledged': True, 'shards_acknowledged': True, 'index': 'all_myntra_product'})"
      ]
     },
     "execution_count": 38,
     "metadata": {},
     "output_type": "execute_result"
    }
   ],
   "source": [
    "from indexMap import indexMap\n",
    "es.indices.create(index='all_myntra_product', mappings=indexMap)"
   ]
  },
  {
   "cell_type": "markdown",
   "metadata": {},
   "source": [
    "### Insert all the data to the index"
   ]
  },
  {
   "cell_type": "code",
   "execution_count": 44,
   "metadata": {},
   "outputs": [],
   "source": [
    "records = df.to_dict('records')"
   ]
  },
  {
   "cell_type": "code",
   "execution_count": 45,
   "metadata": {},
   "outputs": [],
   "source": [
    "for record in records:\n",
    "    try:\n",
    "        es.index(index='all_myntra_product', document=record, id=record['ProductID'])\n",
    "    except Exception as e:\n",
    "        print(f\"Error when inserting {record['ProductID']}:\", e)"
   ]
  },
  {
   "cell_type": "code",
   "execution_count": 52,
   "metadata": {},
   "outputs": [
    {
     "data": {
      "text/plain": [
       "ObjectApiResponse({'count': 503, '_shards': {'total': 14, 'successful': 14, 'skipped': 0, 'failed': 0}})"
      ]
     },
     "execution_count": 52,
     "metadata": {},
     "output_type": "execute_result"
    }
   ],
   "source": [
    "es.count()"
   ]
  },
  {
   "cell_type": "markdown",
   "metadata": {},
   "source": [
    "### Search Data"
   ]
  },
  {
   "cell_type": "code",
   "execution_count": 57,
   "metadata": {},
   "outputs": [
    {
     "name": "stderr",
     "output_type": "stream",
     "text": [
      "/tmp/ipykernel_11940/2901151298.py:11: ElasticsearchWarning: The kNN search API has been replaced by the `knn` option in the search API.\n",
      "  res = es.knn_search(index='all_myntra_product', knn=query, source=['ProductName', 'Description'])\n"
     ]
    },
    {
     "data": {
      "text/plain": [
       "[{'_index': 'all_myntra_product',\n",
       "  '_id': '10017157',\n",
       "  '_score': 0.58104646,\n",
       "  '_source': {'ProductName': 'Carrera Men Black Sneakers',\n",
       "   'Description': 'A pair of round-toe black sneakers, has regular styling, lace-up detailSynthetic upperCushioned footbedTextured and patterned outsoleWarranty: 1 monthWarranty provided by brand/manufacturer'}},\n",
       " {'_index': 'all_myntra_product',\n",
       "  '_id': '10007713',\n",
       "  '_score': 0.5622912,\n",
       "  '_source': {'ProductName': 'her by invictus Women Black Textured Cushioned Flats',\n",
       "   'Description': 'A pair of black pointed toe cushioned flats, has regular styling, backstrap detailSynthetic upperCushioned footbedTextured and patterned outsole'}},\n",
       " {'_index': 'all_myntra_product',\n",
       "  '_id': '10007611',\n",
       "  '_score': 0.56096166,\n",
       "  '_source': {'ProductName': 'ether Women Black Solid Slip-Ons',\n",
       "   'Description': 'A pair of round-toe black solid slip-ons, has regular styling, slip-on detailSynthetic upperCushioned footbedTextured and patterned outsoleWarranty: 45 daysWarranty provided by brand/manufacturer'}},\n",
       " {'_index': 'all_myntra_product',\n",
       "  '_id': '10001425',\n",
       "  '_score': 0.553025,\n",
       "  '_source': {'ProductName': 'Shoe Couture Women White & Black Applique Detail Sneakers',\n",
       "   'Description': 'A pair of round-toe white & black sneakers, has regular styling, lace-up detailSynthetic upper with applique detailCushioned footbedTextured and patterned outsoleWarranty: 1 monthWarranty provided by brand/manufacturer'}},\n",
       " {'_index': 'all_myntra_product',\n",
       "  '_id': '10005983',\n",
       "  '_score': 0.5499885,\n",
       "  '_source': {'ProductName': 'ID Men Black Solid Leather Thong Flip-Flops',\n",
       "   'Description': 'A pair of black solid flip flopsSynthetic upper materialCushioned footbedPatterned synthetic outsoleWarranty: 3 monthsWarranty provided by brand/manufacturer'}},\n",
       " {'_index': 'all_myntra_product',\n",
       "  '_id': '10007801',\n",
       "  '_score': 0.5498647,\n",
       "  '_source': {'ProductName': 'her by invictus Women Black Textured Cushioned Flats',\n",
       "   'Description': 'A pair of black pointed toe cushioned flats, has regular styling, slip-on detailSynthetic upperCushioned footbedTextured and patterned outsole'}},\n",
       " {'_index': 'all_myntra_product',\n",
       "  '_id': '10007683',\n",
       "  '_score': 0.54962087,\n",
       "  '_source': {'ProductName': 'Roadster Women Black Textured Open Toe Flats',\n",
       "   'Description': 'A pair of black open-toed flats, has regular styling, no back strap detailSynthetic upperCushioned footbedTextured and patterned outsoleWarranty: 1 monthWarranty provided by brand/manufacturer'}},\n",
       " {'_index': 'all_myntra_product',\n",
       "  '_id': '10007763',\n",
       "  '_score': 0.53056145,\n",
       "  '_source': {'ProductName': 'her by invictus Women Black Solid Cushioned Smart Casual Derbys',\n",
       "   'Description': 'A pair of black pointed-toed derbys with comfort lining and foam cushioned footbed for your work-from-home needs. It has regular styling, lace-up detailSynthetic upperFoam Cushioned footbedTextured outsole with a stacked heelWarranty: 3 months against manufacturing defectsWarranty provided by Brand Owner / Manufacturer'}},\n",
       " {'_index': 'all_myntra_product',\n",
       "  '_id': '10006031',\n",
       "  '_score': 0.52801996,\n",
       "  '_source': {'ProductName': 'ID Men Brown Solid Leather Mid-Top Sneakers',\n",
       "   'Description': 'A pair of round-toe brown sneakers, has mid-top styling, lace-up detailLeather upperCushioned footbedTextured and patterned outsoleWarranty: 3 monthsWarranty provided by brand/manufacturer'}},\n",
       " {'_index': 'all_myntra_product',\n",
       "  '_id': '10018013',\n",
       "  '_score': 0.5268814,\n",
       "  '_source': {'ProductName': 'Puma Men Blue Sneakers',\n",
       "   'Description': 'A pair of round-toe blue sneakers, has regular styling, lace-up detailTextile upperCushioned footbedTextured and patterned outsoleWarranty: 3 monthsWarranty provided by brand/manufacturer'}}]"
      ]
     },
     "execution_count": 57,
     "metadata": {},
     "output_type": "execute_result"
    }
   ],
   "source": [
    "input_keyword = \"Black Shoes\"\n",
    "vector_embedding = model.encode(input_keyword)\n",
    "\n",
    "query = {\n",
    "    \"field\": \"DescriptionVector\",\n",
    "    \"query_vector\": vector_embedding,\n",
    "    \"k\": 10,\n",
    "    \"num_candidates\": 500,\n",
    "}\n",
    "\n",
    "res = es.knn_search(index='all_myntra_product', knn=query, source=['ProductName', 'Description'])"
   ]
  },
  {
   "cell_type": "markdown",
   "metadata": {},
   "source": [
    "### Print the result"
   ]
  },
  {
   "cell_type": "code",
   "execution_count": 61,
   "metadata": {},
   "outputs": [
    {
     "name": "stdout",
     "output_type": "stream",
     "text": [
      "Product Name: Carrera Men Black Sneakers\n",
      "Description: A pair of round-toe black sneakers, has regular styling, lace-up detailSynthetic upperCushioned footbedTextured and patterned outsoleWarranty: 1 monthWarranty provided by brand/manufacturer\n",
      "Score: 0.58104646\n",
      "====================================================================================================\n",
      "Product Name: her by invictus Women Black Textured Cushioned Flats\n",
      "Description: A pair of black pointed toe cushioned flats, has regular styling, backstrap detailSynthetic upperCushioned footbedTextured and patterned outsole\n",
      "Score: 0.5622912\n",
      "====================================================================================================\n",
      "Product Name: ether Women Black Solid Slip-Ons\n",
      "Description: A pair of round-toe black solid slip-ons, has regular styling, slip-on detailSynthetic upperCushioned footbedTextured and patterned outsoleWarranty: 45 daysWarranty provided by brand/manufacturer\n",
      "Score: 0.56096166\n",
      "====================================================================================================\n",
      "Product Name: Shoe Couture Women White & Black Applique Detail Sneakers\n",
      "Description: A pair of round-toe white & black sneakers, has regular styling, lace-up detailSynthetic upper with applique detailCushioned footbedTextured and patterned outsoleWarranty: 1 monthWarranty provided by brand/manufacturer\n",
      "Score: 0.553025\n",
      "====================================================================================================\n",
      "Product Name: ID Men Black Solid Leather Thong Flip-Flops\n",
      "Description: A pair of black solid flip flopsSynthetic upper materialCushioned footbedPatterned synthetic outsoleWarranty: 3 monthsWarranty provided by brand/manufacturer\n",
      "Score: 0.5499885\n",
      "====================================================================================================\n",
      "Product Name: her by invictus Women Black Textured Cushioned Flats\n",
      "Description: A pair of black pointed toe cushioned flats, has regular styling, slip-on detailSynthetic upperCushioned footbedTextured and patterned outsole\n",
      "Score: 0.5498647\n",
      "====================================================================================================\n",
      "Product Name: Roadster Women Black Textured Open Toe Flats\n",
      "Description: A pair of black open-toed flats, has regular styling, no back strap detailSynthetic upperCushioned footbedTextured and patterned outsoleWarranty: 1 monthWarranty provided by brand/manufacturer\n",
      "Score: 0.54962087\n",
      "====================================================================================================\n",
      "Product Name: her by invictus Women Black Solid Cushioned Smart Casual Derbys\n",
      "Description: A pair of black pointed-toed derbys with comfort lining and foam cushioned footbed for your work-from-home needs. It has regular styling, lace-up detailSynthetic upperFoam Cushioned footbedTextured outsole with a stacked heelWarranty: 3 months against manufacturing defectsWarranty provided by Brand Owner / Manufacturer\n",
      "Score: 0.53056145\n",
      "====================================================================================================\n",
      "Product Name: ID Men Brown Solid Leather Mid-Top Sneakers\n",
      "Description: A pair of round-toe brown sneakers, has mid-top styling, lace-up detailLeather upperCushioned footbedTextured and patterned outsoleWarranty: 3 monthsWarranty provided by brand/manufacturer\n",
      "Score: 0.52801996\n",
      "====================================================================================================\n",
      "Product Name: Puma Men Blue Sneakers\n",
      "Description: A pair of round-toe blue sneakers, has regular styling, lace-up detailTextile upperCushioned footbedTextured and patterned outsoleWarranty: 3 monthsWarranty provided by brand/manufacturer\n",
      "Score: 0.5268814\n",
      "====================================================================================================\n"
     ]
    }
   ],
   "source": [
    "for item in res[\"hits\"][\"hits\"]:\n",
    "    print(f\"Product Name: {item['_source']['ProductName']}\")\n",
    "    print(f\"Description: {item['_source']['Description']}\")\n",
    "    print(f\"Score: {item['_score']}\")\n",
    "    print(\"=\" * 100) "
   ]
  }
 ],
 "metadata": {
  "kernelspec": {
   "display_name": "venv",
   "language": "python",
   "name": "python3"
  },
  "language_info": {
   "codemirror_mode": {
    "name": "ipython",
    "version": 3
   },
   "file_extension": ".py",
   "mimetype": "text/x-python",
   "name": "python",
   "nbconvert_exporter": "python",
   "pygments_lexer": "ipython3",
   "version": "3.11.4"
  }
 },
 "nbformat": 4,
 "nbformat_minor": 2
}
